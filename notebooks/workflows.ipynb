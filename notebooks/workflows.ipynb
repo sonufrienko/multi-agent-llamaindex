{
 "cells": [
  {
   "cell_type": "code",
   "execution_count": null,
   "metadata": {},
   "outputs": [],
   "source": [
    "!pip install -U llama-index-core llama-index-llms-openai llama-index-utils-workflow python-dotenv"
   ]
  },
  {
   "cell_type": "code",
   "execution_count": null,
   "metadata": {},
   "outputs": [],
   "source": [
    "from llama_index.core.workflow import (\n",
    "    Event,\n",
    "    StartEvent,\n",
    "    StopEvent,\n",
    "    Workflow,\n",
    "    step,\n",
    "    Context\n",
    ")\n",
    "import random\n",
    "from llama_index.utils.workflow import draw_all_possible_flows\n",
    "from llama_index.utils.workflow import draw_most_recent_execution\n",
    "from llama_index.llms.openai import OpenAI"
   ]
  },
  {
   "cell_type": "code",
   "execution_count": null,
   "metadata": {},
   "outputs": [],
   "source": [
    "from dotenv import load_dotenv\n",
    "load_dotenv()"
   ]
  },
  {
   "cell_type": "code",
   "execution_count": null,
   "metadata": {},
   "outputs": [],
   "source": [
    "from llama_index.llms.openai import OpenAI\n",
    "\n",
    "class OpenAIGenerator(Workflow):\n",
    "    @step()\n",
    "    async def generate(self, ev: StartEvent) -> StopEvent:\n",
    "        llm = OpenAI(model=\"gpt-4o\")\n",
    "        response = await llm.acomplete(ev.query)\n",
    "        return StopEvent(result=str(response))\n",
    "\n",
    "w = OpenAIGenerator(timeout=10, verbose=False)\n",
    "result = await w.run(query=\"What's LlamaIndex?\")\n",
    "print(result)"
   ]
  },
  {
   "cell_type": "code",
   "execution_count": null,
   "metadata": {},
   "outputs": [],
   "source": [
    "class FailedEvent(Event):\n",
    "    error: str\n",
    "\n",
    "class QueryEvent(Event):\n",
    "    query: str\n",
    "\n",
    "class LoopExampleFlow(Workflow):\n",
    "\n",
    "    @step()\n",
    "    async def answer_query(self, ev: StartEvent | QueryEvent ) -> FailedEvent | StopEvent:\n",
    "        query = ev.query\n",
    "        # try to answer the query\n",
    "        random_number = random.randint(0, 1)\n",
    "        if (random_number == 0):\n",
    "            return FailedEvent(error=\"Failed to answer the query.\")\n",
    "        else:\n",
    "            return StopEvent(result=\"The answer to your query\")\n",
    "\n",
    "    @step()\n",
    "    async def improve_query(self, ev: FailedEvent) -> QueryEvent | StopEvent:\n",
    "        # improve the query or decide it can't be fixed\n",
    "        random_number = random.randint(0, 1)\n",
    "        if (random_number == 0):\n",
    "            return QueryEvent(query=\"Here's a better query.\")\n",
    "        else:\n",
    "            return StopEvent(result=\"Your query can't be fixed.\")"
   ]
  },
  {
   "cell_type": "code",
   "execution_count": null,
   "metadata": {},
   "outputs": [],
   "source": [
    "l = LoopExampleFlow(timeout=10, verbose=True)\n",
    "result = await l.run(query=\"What's LlamaIndex?\")\n",
    "print(result)"
   ]
  },
  {
   "cell_type": "code",
   "execution_count": null,
   "metadata": {},
   "outputs": [],
   "source": [
    "class GlobalExampleFlow(Workflow):\n",
    "\n",
    "    @step(pass_context=True)\n",
    "    async def setup(self, ctx: Context, ev: StartEvent) -> QueryEvent:\n",
    "        # load our data here\n",
    "        ctx.data[\"some_database\"] = [\"value1\",\"value2\",\"value3\"]\n",
    "\n",
    "        return QueryEvent(query=ev.query)\n",
    "\n",
    "    @step(pass_context=True)\n",
    "    async def query(self, ctx: Context, ev: QueryEvent) -> StopEvent:\n",
    "        # use our data with our query\n",
    "        data = ctx.data[\"some_database\"]\n",
    "\n",
    "        result = f\"The answer to your query is {data[1]}\"\n",
    "        return StopEvent(result=result)"
   ]
  },
  {
   "cell_type": "code",
   "execution_count": null,
   "metadata": {},
   "outputs": [],
   "source": [
    "g = GlobalExampleFlow(timeout=10, verbose=True)\n",
    "result = await g.run(query=\"What's LlamaIndex?\")\n",
    "print(result)"
   ]
  },
  {
   "cell_type": "code",
   "execution_count": null,
   "metadata": {},
   "outputs": [],
   "source": [
    "class WaitExampleFlow(Workflow):\n",
    "\n",
    "    @step(pass_context=True)\n",
    "    async def setup(self, ctx: Context, ev: StartEvent) -> StopEvent:\n",
    "        if (hasattr(ev,\"data\")):\n",
    "            ctx.data[\"some_database\"] = ev.data\n",
    "\n",
    "        return StopEvent(result=None)\n",
    "\n",
    "    @step(pass_context=True)\n",
    "    async def query(self, ctx: Context, ev: StartEvent) -> StopEvent:\n",
    "        if (hasattr(ev,\"query\")):\n",
    "            # do we have any data?\n",
    "            if (\"some_database\" in ctx.data):\n",
    "                data = ctx.data[\"some_database\"]\n",
    "                return StopEvent(result=f\"Got the data {data}\")\n",
    "            else:\n",
    "                # there's non data yet\n",
    "                return None\n",
    "        else:\n",
    "            # this isn't a query\n",
    "            return None"
   ]
  },
  {
   "cell_type": "code",
   "execution_count": null,
   "metadata": {},
   "outputs": [],
   "source": [
    "w = WaitExampleFlow(verbose=True)\n",
    "result = await w.run(query=\"Can I kick it?\")\n",
    "if (result is None):\n",
    "    print(\"No you can't\")\n",
    "print(\"---\")\n",
    "result = await w.run(data=\"Yes you can\")\n",
    "print(\"---\")\n",
    "result = await w.run(query=\"Can I kick it?\")\n",
    "print(result)"
   ]
  },
  {
   "cell_type": "code",
   "execution_count": null,
   "metadata": {},
   "outputs": [],
   "source": [
    "class InputEvent(Event):\n",
    "    input: str\n",
    "\n",
    "class SetupEvent(Event):\n",
    "    error: bool\n",
    "\n",
    "class QueryEvent(Event):\n",
    "    query: str\n",
    "\n",
    "class CollectExampleFlow(Workflow):\n",
    "\n",
    "    @step(pass_context=True)\n",
    "    async def setup(self,ctx: Context, ev: StartEvent) -> SetupEvent:\n",
    "        # generically start everything up\n",
    "        if (\"setup\" not in ctx.data):\n",
    "            ctx.data[\"setup\"] = True\n",
    "            print(\"I got set up\")\n",
    "            return SetupEvent(error=False)\n",
    "\n",
    "    @step()\n",
    "    async def collect_input(self, ev: StartEvent ) -> InputEvent:\n",
    "        if (hasattr(ev, 'input')):\n",
    "            # perhaps validate the input\n",
    "            print(\"I got some input\")\n",
    "            return InputEvent(input=ev.input)\n",
    "\n",
    "    @step()\n",
    "    async def parse_query(self, ev: StartEvent) -> QueryEvent:\n",
    "        if (hasattr(ev, 'query')):\n",
    "            # parse the query in some way\n",
    "            print(\"I got a query\")\n",
    "            return QueryEvent(query=ev.query)\n",
    "\n",
    "    @step(pass_context=True)\n",
    "    async def run_query(self, ctx: Context, ev: InputEvent | SetupEvent | QueryEvent) -> StopEvent:\n",
    "        ready = ctx.collect_events(ev,[QueryEvent, InputEvent, SetupEvent])\n",
    "        if (ready is None):\n",
    "            print(\"Not enough events yet\")\n",
    "            return StopEvent()\n",
    "\n",
    "        # run the query\n",
    "        print(\"Now I have all the events\")\n",
    "        print(ready)\n",
    "        return StopEvent(result=f\"Ran query {ready[0].query} on input {ready[1].input}\")"
   ]
  },
  {
   "cell_type": "code",
   "execution_count": null,
   "metadata": {},
   "outputs": [],
   "source": [
    "c = CollectExampleFlow()\n",
    "result = await c.run()\n",
    "print(\"---\")\n",
    "result = await c.run(input=\"Here's some input\")\n",
    "print(\"---\")\n",
    "result = await c.run(query=\"Here's my question\")\n",
    "print(result)"
   ]
  },
  {
   "cell_type": "code",
   "execution_count": null,
   "metadata": {},
   "outputs": [],
   "source": [
    "class FailureEvent(Event):\n",
    "    error: str\n",
    "\n",
    "class FailureExampleFlow(Workflow):\n",
    "\n",
    "    @step()\n",
    "    async def try_to_do_thing(self, ev: StartEvent) -> StopEvent | FailureEvent:\n",
    "        random_number = random.randint(0, 10)\n",
    "        if (random_number < 5):\n",
    "            print(\"There was a failure\")\n",
    "            return FailureEvent(error=f\"This is the bad place: {random_number}\")\n",
    "        else:\n",
    "            print(\"There was success\")\n",
    "            return StopEvent(result=\"Success\")\n",
    "\n",
    "    @step(pass_context=True)\n",
    "    async def monitor_failures(self, ctx: Context, ev: FailureEvent ) -> StopEvent | None:\n",
    "        failed = ctx.collect_events(ev, [FailureEvent, FailureEvent, FailureEvent])\n",
    "        if failed is not None:\n",
    "            print(failed)\n",
    "            print(\"The simulation has failed!\")\n",
    "            return StopEvent(result=\"Failure\")\n",
    "\n",
    "        return StopEvent()"
   ]
  },
  {
   "cell_type": "code",
   "execution_count": null,
   "metadata": {},
   "outputs": [],
   "source": [
    "f = FailureExampleFlow(verbose=False)\n",
    "result = await f.run()\n",
    "print(\"====\", result)\n",
    "result = await f.run()\n",
    "print(\"====\", result)\n",
    "result = await f.run()\n",
    "print(\"====\", result)\n",
    "result = await f.run()\n",
    "print(\"====\", result)\n",
    "result = await f.run()\n",
    "print(\"====\", result)\n",
    "result = await f.run()"
   ]
  }
 ],
 "metadata": {
  "kernelspec": {
   "display_name": "default",
   "language": "python",
   "name": "default"
  },
  "language_info": {
   "codemirror_mode": {
    "name": "ipython",
    "version": 3
   },
   "file_extension": ".py",
   "mimetype": "text/x-python",
   "name": "python",
   "nbconvert_exporter": "python",
   "pygments_lexer": "ipython3",
   "version": "3.11.9"
  }
 },
 "nbformat": 4,
 "nbformat_minor": 2
}
